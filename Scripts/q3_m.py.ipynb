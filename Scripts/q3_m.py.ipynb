{
 "cells": [
  {
   "cell_type": "markdown",
   "metadata": {},
   "source": [
    "#que_3 logistic regression"
   ]
  },
  {
   "cell_type": "code",
   "execution_count": 1,
   "metadata": {},
   "outputs": [],
   "source": [
    "#Import all the required libraries here\n",
    "import numpy as np\n",
    "import pandas as pd\n",
    "import matplotlib.pyplot as plt"
   ]
  },
  {
   "cell_type": "code",
   "execution_count": 2,
   "metadata": {},
   "outputs": [],
   "source": [
    "#sigmoid function\n",
    "def sigmoid(z):\n",
    "    return 1/(1+np.exp(-z))"
   ]
  },
  {
   "cell_type": "code",
   "execution_count": 3,
   "metadata": {},
   "outputs": [],
   "source": [
    "#l_dash function\n",
    "def l_dash_func(X, g_theta, Y):\n",
    "    return -1*( X.T @ (g_theta - Y))"
   ]
  },
  {
   "cell_type": "code",
   "execution_count": 4,
   "metadata": {},
   "outputs": [],
   "source": [
    "#function to calculate hession\n",
    "def hessian(X, g_theta):\n",
    "    diag_val = np.array([i*(1-i) for i in g_theta])\n",
    "    diag_matrix = np.diag(diag_val)\n",
    "    Temp = (X.T @ diag_matrix @ X)\n",
    "    H = (-1)*Temp\n",
    "    return H"
   ]
  },
  {
   "cell_type": "code",
   "execution_count": 5,
   "metadata": {},
   "outputs": [],
   "source": [
    "#Function to normalize the data\n",
    "def normalization (input_arr, temp):\n",
    "    mean = np.mean(input_arr)\n",
    "    std  = np.std(input_arr)\n",
    "    med  = np.median(input_arr)\n",
    "    print(\"mean of data :{}, standard deviation :{}, median of data :{}\".format(mean,std,med))\n",
    "\n",
    "    input_arr = (input_arr-mean)/std\n",
    "    return input_arr"
   ]
  },
  {
   "cell_type": "code",
   "execution_count": 6,
   "metadata": {},
   "outputs": [],
   "source": [
    "#It draws the linear boundary in the data\n",
    "def line_draw(slope, intercept):\n",
    "    xx = np.linspace(-2,5,10)\n",
    "    yy = -1*intercept + -1*slope * xx\n",
    "    y = slope * xx + intercept\n",
    "    plt.plot(xx, yy, 'r-',label = \"Linear boundary by logistic regression\")\n",
    "    legend = plt.legend(loc=\"upper left\")"
   ]
  },
  {
   "cell_type": "code",
   "execution_count": 7,
   "metadata": {},
   "outputs": [],
   "source": [
    "#Logistic function\n",
    "def logistic_function(X,Y,theta, epsilon):\n",
    "    flag = 1\n",
    "    for i in range(0,1000):\n",
    "        g_theta = sigmoid(X@theta)\n",
    "        L_dash = l_dash_func(X,g_theta, Y)\n",
    "        H = hessian(X,g_theta)\n",
    "        inv_H = np.linalg.inv(H)\n",
    "        theta = theta - inv_H @ L_dash\n",
    "\n",
    "        for l in L_dash:\n",
    "            if np.abs(l) > epsilon:\n",
    "                flag = 0\n",
    "        if(flag !=0):\n",
    "            break\n",
    "        flag = 1\n",
    "    print('Theta :', theta)\n",
    "    print('Iterations# ',i)\n",
    "    slope = (theta[1]/theta[2])\n",
    "    intercept = (theta[0]/theta[2])\n",
    "    line_draw(slope,intercept)\n",
    "    \n",
    "    plt.xlabel('X -Input 1 ')\n",
    "    plt.ylabel('X -Input 2 ')\n",
    "    print(X.shape)\n",
    "    xdata1=[]\n",
    "    ydata1=[]\n",
    "    xdata2=[]\n",
    "    ydata2=[]\n",
    "    \n",
    "    for i in range(0,100):\n",
    "        if Y[i] == 0:\n",
    "            xdata1.append(X[i][1]) \n",
    "            ydata1.append(X[i][2]) \n",
    "        else :\n",
    "            xdata2.append(X[i][1]) \n",
    "            ydata2.append(X[i][2])\n",
    "            \n",
    "    plt.title('Decision Boundary (Newtons Method)')\n",
    "    plt.scatter(xdata1,ydata1,s=10,c='b',label='Label0')\n",
    "    plt.scatter(xdata2,ydata2,s=10,c='r',label='Label1')\n",
    "    plt.legend()\n",
    "    plt.show()\n",
    "    "
   ]
  },
  {
   "cell_type": "code",
   "execution_count": 8,
   "metadata": {},
   "outputs": [
    {
     "name": "stdout",
     "output_type": "stream",
     "text": [
      "Using matplotlib backend: Qt5Agg\n",
      "mean of data :4.618717, standard deviation :1.318927561244741, median of data :4.5237\n",
      "mean of data :4.522868, standard deviation :1.3871659149416844, median of data :4.5447\n",
      "Theta : [ 0.40125316  2.5885477  -2.72558849]\n",
      "Iterations#  8\n",
      "(100, 3)\n"
     ]
    }
   ],
   "source": [
    "%matplotlib\n",
    "#Read input files\n",
    "input_fileX = \"ass1_data/q3/logisticX.csv\"\n",
    "input_fileY = \"ass1_data/q3/logisticY.csv\"\n",
    "\n",
    "X_data = np.loadtxt(input_fileX,delimiter = ',')\n",
    "Y_data = np.loadtxt(input_fileY)\n",
    "\n",
    "Y = Y_data\n",
    "\n",
    "m,n =X_data.shape\n",
    "theta = [0,0,0]\n",
    "no_ones = np.ones(m)\n",
    "\n",
    "\n",
    "X_data0 = normalization(X_data.T[0],0)\n",
    "x_data1 = normalization(X_data.T[1],0)\n",
    "#ones are added to the x matrix\n",
    "X = np.stack((no_ones,X_data0,x_data1), axis=-1)\n",
    "#stoping condition\n",
    "epsilon = 0.000000000001 #10^-1\n",
    "logistic_function(X,Y, theta, epsilon ) "
   ]
  },
  {
   "cell_type": "code",
   "execution_count": null,
   "metadata": {},
   "outputs": [],
   "source": []
  },
  {
   "cell_type": "code",
   "execution_count": null,
   "metadata": {},
   "outputs": [],
   "source": []
  }
 ],
 "metadata": {
  "kernelspec": {
   "display_name": "Python 3",
   "language": "python",
   "name": "python3"
  },
  "language_info": {
   "codemirror_mode": {
    "name": "ipython",
    "version": 3
   },
   "file_extension": ".py",
   "mimetype": "text/x-python",
   "name": "python",
   "nbconvert_exporter": "python",
   "pygments_lexer": "ipython3",
   "version": "3.7.4"
  }
 },
 "nbformat": 4,
 "nbformat_minor": 2
}
